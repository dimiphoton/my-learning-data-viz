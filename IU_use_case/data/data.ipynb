{
 "cells": [
  {
   "cell_type": "code",
   "execution_count": 1,
   "metadata": {},
   "outputs": [
    {
     "name": "stdout",
     "output_type": "stream",
     "text": [
      "Datasets generated and saved as CSV files.\n"
     ]
    }
   ],
   "source": [
    "import pandas as pd\n",
    "import random\n",
    "from datetime import datetime, timedelta\n",
    "\n",
    "# Liste de pays de l'UE et leurs villes avec coordonnées\n",
    "eu_cities = [\n",
    "    {\"country\": \"France\", \"cities\": [(\"Paris\", 48.8566, 2.3522), (\"Lyon\", 45.7640, 4.8357), (\"Marseille\", 43.2965, 5.3698)]},\n",
    "    {\"country\": \"Germany\", \"cities\": [(\"Berlin\", 52.5200, 13.4050), (\"Munich\", 48.1351, 11.5820), (\"Hamburg\", 53.5511, 9.9937)]},\n",
    "    {\"country\": \"Italy\", \"cities\": [(\"Rome\", 41.9028, 12.4964), (\"Milan\", 45.4642, 9.1900), (\"Naples\", 40.8518, 14.2681)]},\n",
    "    {\"country\": \"Spain\", \"cities\": [(\"Madrid\", 40.4168, -3.7038), (\"Barcelona\", 41.3851, 2.1734), (\"Valencia\", 39.4699, -0.3763)]},\n",
    "    {\"country\": \"Netherlands\", \"cities\": [(\"Amsterdam\", 52.3676, 4.9041), (\"Rotterdam\", 51.9225, 4.4792), (\"The Hague\", 52.0705, 4.3007)]},\n",
    "    {\"country\": \"Belgium\", \"cities\": [(\"Brussels\", 50.8503, 4.3517), (\"Antwerp\", 51.2194, 4.4025), (\"Ghent\", 51.0543, 3.7174)]},\n",
    "    {\"country\": \"Poland\", \"cities\": [(\"Warsaw\", 52.2297, 21.0122), (\"Krakow\", 50.0647, 19.9450), (\"Wroclaw\", 51.1079, 17.0385)]},\n",
    "    {\"country\": \"Portugal\", \"cities\": [(\"Lisbon\", 38.7169, -9.1399), (\"Porto\", 41.1579, -8.6291), (\"Coimbra\", 40.2033, -8.4103)]},\n",
    "    {\"country\": \"Sweden\", \"cities\": [(\"Stockholm\", 59.3293, 18.0686), (\"Gothenburg\", 57.7089, 11.9746), (\"Malmo\", 55.6049, 13.0038)]},\n",
    "    {\"country\": \"Austria\", \"cities\": [(\"Vienna\", 48.2082, 16.3738), (\"Graz\", 47.0707, 15.4395), (\"Linz\", 48.3069, 14.2858)]},\n",
    "]\n",
    "\n",
    "stores = []\n",
    "for country in eu_cities:\n",
    "    for city in country[\"cities\"]:\n",
    "        store = {\n",
    "            # StoreID est l'index de la liste stores + 1\n",
    "            \"StoreID\": len(stores) + 1,\n",
    "            \"Country\": country[\"country\"],\n",
    "            \"City\": city[0],\n",
    "            \"Latitude\": city[1],\n",
    "            \"Longitude\": city[2],\n",
    "            \"StoreName\": f\"{city[0]}_store\"\n",
    "        }\n",
    "        stores.append(store)\n",
    "\n",
    "# Générer les données des produits\n",
    "products = [{\"ProductID\": i, \"ProductName\": f\"Product {i}\", \"Category\": random.choice([\"Dairy\", \"Bakery\", \"Beverage\"]), \"ReplenishmentThreshold\": random.randint(0, 50)} for i in range(1, 21)]\n",
    "\n",
    "# Générer les données des stocks\n",
    "# write a loop for each store and product\n",
    "inventory = []\n",
    "for store in stores:\n",
    "    for product in products:\n",
    "        stock = {\n",
    "            \"StoreID\": store[\"StoreID\"],\n",
    "            \"ProductID\": product[\"ProductID\"],\n",
    "            \"StockLevel\": random.randint(30, 99)\n",
    "        }\n",
    "        inventory.append(stock)\n",
    "# Générer les données des ventes\n",
    "sales = []\n",
    "start_date = datetime(2025, 1, 1)\n",
    "for _ in range(500):\n",
    "    sales.append({\n",
    "        \"Date\": start_date + timedelta(days=random.randint(1, 20)),        \n",
    "        \"ProductID\": random.randint(1, 20),\n",
    "        \"QuantitySold\": random.randint(1, 10),\n",
    "        \"StoreID\": random.randint(1, 30),\n",
    "        \"Revenue\": random.randint(10, 50)\n",
    "    })\n",
    "\n",
    "\n",
    "# Générer les données des commandes de réapprovisionnement\n",
    "replenishment_orders = []\n",
    "for _ in range(500):\n",
    "    replenishment_orders.append({\n",
    "        \"OrderID\": _+1,\n",
    "        \"StoreID\": random.randint(1, 30),\n",
    "        \"ProductID\": random.randint(1, 20),\n",
    "        \"OrderStatus\": random.choice([\"Pending\", \"Delivered\"]),\n",
    "        \"Quantity\": random.randint(50, 200),\n",
    "        \"DeliveryDate\": start_date + timedelta(days=random.randint(1, 30))\n",
    "    })\n",
    "\n",
    "# Sauvegarder les données en fichiers CSV\n",
    "pd.DataFrame(stores).to_csv(\"Stores.csv\", index=False)\n",
    "pd.DataFrame(products).to_csv(\"Products.csv\", index=False)\n",
    "pd.DataFrame(inventory).to_csv(\"Inventory.csv\", index=False)\n",
    "pd.DataFrame(sales).to_csv(\"Sales.csv\", index=False)\n",
    "pd.DataFrame(replenishment_orders).to_csv(\"ReplenishmentOrders.csv\", index=False)\n",
    "\n",
    "print(\"Datasets generated and saved as CSV files.\")\n"
   ]
  },
  {
   "cell_type": "markdown",
   "metadata": {},
   "source": []
  }
 ],
 "metadata": {
  "kernelspec": {
   "display_name": "IUdataenv",
   "language": "python",
   "name": "python3"
  },
  "language_info": {
   "codemirror_mode": {
    "name": "ipython",
    "version": 3
   },
   "file_extension": ".py",
   "mimetype": "text/x-python",
   "name": "python",
   "nbconvert_exporter": "python",
   "pygments_lexer": "ipython3",
   "version": "3.9.20"
  }
 },
 "nbformat": 4,
 "nbformat_minor": 2
}
